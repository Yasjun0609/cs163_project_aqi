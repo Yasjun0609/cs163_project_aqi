{
  "nbformat": 4,
  "nbformat_minor": 0,
  "metadata": {
    "colab": {
      "provenance": []
    },
    "kernelspec": {
      "name": "python3",
      "display_name": "Python 3"
    },
    "language_info": {
      "name": "python"
    }
  },
  "cells": [
    {
      "cell_type": "code",
      "execution_count": null,
      "metadata": {
        "id": "RNr79fws-bQb"
      },
      "outputs": [],
      "source": [
        "# First, install required packages\n",
        "!pip install pykrige geopandas geopy google-cloud-storage plotly ipywidgets\n",
        "\n",
        "import pandas as pd\n",
        "import numpy as np\n",
        "from io import StringIO\n",
        "from pykrige.ok import OrdinaryKriging\n",
        "from google.cloud import storage\n",
        "from geopy.distance import geodesic\n",
        "import geopandas as gpd\n",
        "import plotly.express as px\n",
        "import plotly.graph_objects as go\n",
        "import ipywidgets as widgets\n",
        "from IPython.display import display, clear_output\n",
        "import os\n",
        "\n",
        "# Authenticate GCP (Only once per session)\n",
        "from google.colab import auth\n",
        "auth.authenticate_user()\n"
      ]
    },
    {
      "cell_type": "markdown",
      "source": [
        "# Set up GCS Access and Load Data"
      ],
      "metadata": {
        "id": "WJI09oIn_Fw6"
      }
    },
    {
      "cell_type": "code",
      "source": [
        "# Define a function to get the CSV file from GCS\n",
        "def get_csv_from_gcs(bucket_name, file_name):\n",
        "    storage_client = storage.Client()\n",
        "    bucket = storage_client.bucket(bucket_name)\n",
        "    blob = bucket.blob(file_name)\n",
        "    if not blob.exists():\n",
        "        raise FileNotFoundError(\"File does not exist\")\n",
        "    data = blob.download_as_text()\n",
        "    return pd.read_csv(StringIO(data))\n",
        "\n",
        "# Load PM2.5 data\n",
        "sjv_pm25 = get_csv_from_gcs(\"sjv_pm25\", \"sjv_pm25_daily_df.csv\")\n",
        "sjv_pm25[\"date_local\"] = pd.to_datetime(sjv_pm25[\"date_local\"])\n"
      ],
      "metadata": {
        "id": "WW7JjXsS-mMb"
      },
      "execution_count": null,
      "outputs": []
    },
    {
      "cell_type": "markdown",
      "source": [
        "#Helper Functions"
      ],
      "metadata": {
        "id": "bmCZnPwi_CLU"
      }
    },
    {
      "cell_type": "code",
      "source": [
        "def create_grid(min_lat, max_lat, min_lon, max_lon, resolution=0.05):\n",
        "    latitudes = np.arange(min_lat, max_lat, resolution)\n",
        "    longitudes = np.arange(min_lon, max_lon, resolution)\n",
        "    return [(lat, lon) for lat in latitudes for lon in longitudes]\n",
        "\n",
        "def is_within_distance(lon, lat, longitudes, latitudes, threshold_km=200):\n",
        "    for lon0, lat0 in zip(longitudes, latitudes):\n",
        "        if geodesic((lat, lon), (lat0, lon0)).km <= threshold_km:\n",
        "            return True\n",
        "    return False\n"
      ],
      "metadata": {
        "id": "FRqHP-Jm-qHM"
      },
      "execution_count": null,
      "outputs": []
    },
    {
      "cell_type": "markdown",
      "source": [
        "#Create Date Picker"
      ],
      "metadata": {
        "id": "feJqX7Oi_AFp"
      }
    },
    {
      "cell_type": "code",
      "source": [
        "date_picker = widgets.DatePicker(\n",
        "    description='Pick a Date',\n",
        "    value=pd.to_datetime(\"2024-01-01\"),\n",
        "    disabled=False\n",
        ")\n",
        "\n",
        "button = widgets.Button(description=\"Predict AQI Grid\")\n",
        "output = widgets.Output()\n",
        "\n",
        "def on_button_clicked(b):\n",
        "    with output:\n",
        "        clear_output()\n",
        "        run_prediction(date_picker.value.strftime('%Y-%m-%d'))\n",
        "\n",
        "button.on_click(on_button_clicked)\n",
        "\n",
        "display(date_picker, button, output)\n"
      ],
      "metadata": {
        "id": "lCXc3YrH-uMi"
      },
      "execution_count": null,
      "outputs": []
    },
    {
      "cell_type": "markdown",
      "source": [
        "#Run Kriging Prediction and Plot Map"
      ],
      "metadata": {
        "id": "lytRyGaR-9qM"
      }
    },
    {
      "cell_type": "code",
      "source": [
        "def run_prediction(date_str):\n",
        "    subset = sjv_pm25[sjv_pm25[\"date_local\"] == date_str]\n",
        "    if subset.empty:\n",
        "        print(\"No data available for this date.\")\n",
        "        return\n",
        "\n",
        "    min_lat, max_lat = subset[\"latitude\"].min(), subset[\"latitude\"].max()\n",
        "    min_lon, max_lon = subset[\"longitude\"].min(), subset[\"longitude\"].max()\n",
        "    grid_points = create_grid(min_lat, max_lat, min_lon, max_lon, resolution=0.05)\n",
        "\n",
        "    aqi_predictions = []\n",
        "    for lat, lon in grid_points:\n",
        "        if is_within_distance(lon, lat, subset['longitude'].values, subset['latitude'].values):\n",
        "            try:\n",
        "                OK = OrdinaryKriging(\n",
        "                    subset['longitude'].values,\n",
        "                    subset['latitude'].values,\n",
        "                    subset['aqi'].values,\n",
        "                    variogram_model=\"spherical\",\n",
        "                    variogram_parameters={\"sill\": 60, \"range\": 3500.0, \"nugget\": 5}\n",
        "                )\n",
        "                pred, var = OK.execute(\"points\", [lon], [lat])\n",
        "                aqi_predictions.append((lat, lon, pred[0]))\n",
        "            except:\n",
        "                continue\n",
        "\n",
        "    grid_df = pd.DataFrame(aqi_predictions, columns=[\"latitude\", \"longitude\", \"predicted_aqi\"])\n",
        "\n",
        "    fig = px.scatter_mapbox(\n",
        "        subset, lat=\"latitude\", lon=\"longitude\", color=\"aqi\",\n",
        "        hover_name=\"site_number\", zoom=6, height=600\n",
        "    )\n",
        "\n",
        "    fig.update_traces(marker=dict(size=18))\n",
        "    fig.update_layout(mapbox_style=\"open-street-map\")\n",
        "\n",
        "    fig.add_trace(go.Scattermapbox(\n",
        "        lat=grid_df[\"latitude\"].tolist(),\n",
        "        lon=grid_df[\"longitude\"].tolist(),\n",
        "        mode=\"markers\",\n",
        "        marker=dict(\n",
        "            size=6,\n",
        "            color=grid_df[\"predicted_aqi\"],\n",
        "            colorscale=\"Viridis\",\n",
        "            showscale=True,\n",
        "            opacity=0.4\n",
        "        ),\n",
        "        name=\"Predicted AQI Grid\"\n",
        "    ))\n",
        "\n",
        "    fig.show()\n"
      ],
      "metadata": {
        "id": "AyJmS6q6-3pR"
      },
      "execution_count": null,
      "outputs": []
    }
  ]
}