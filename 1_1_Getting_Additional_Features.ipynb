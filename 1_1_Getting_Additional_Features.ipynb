{
  "nbformat": 4,
  "nbformat_minor": 0,
  "metadata": {
    "colab": {
      "provenance": []
    },
    "kernelspec": {
      "name": "python3",
      "display_name": "Python 3"
    },
    "language_info": {
      "name": "python"
    }
  },
  "cells": [
    {
      "cell_type": "code",
      "source": [
        "import requests\n",
        "import pandas as pd"
      ],
      "metadata": {
        "id": "QN5K9Qt9t3uR"
      },
      "execution_count": null,
      "outputs": []
    },
    {
      "cell_type": "markdown",
      "source": [
        "Wind Speed\t61103\n",
        "Wind Direction\t61104\n",
        "Temperature\t62101\n",
        "Relative Humidity\t62201\n",
        "Barometric Pressure\t61101"
      ],
      "metadata": {
        "id": "eJeN0zW6uHzD"
      }
    },
    {
      "cell_type": "code",
      "source": [
        "import requests\n",
        "import pandas as pd\n",
        "import time  # To avoid hitting API rate limits\n",
        "\n",
        "# API endpoint for county-level data\n",
        "url = \"https://aqs.epa.gov/data/api/dailyData/byCounty\"\n",
        "\n",
        "# API Credentials\n",
        "email = \"dksxowns69@gmail.com\"\n",
        "api_key = \"aquabird37\"\n",
        "\n",
        "# Pollutant parameter codes\n",
        "params_list = [#\"61101\", # Wind Speed_Simple\n",
        "               #\"61103\", # Wind Speed_ Resultant (Vector-based)\n",
        "               #\"61104\", # Wind direction\n",
        "               #\"62101\", # Outdoor Temperature\n",
        "               \"62201\", # Relative Humidity\n",
        "               #\"64101\", # Barometric Pressure\n",
        "               #\"42101\", # Carbon monoxide\n",
        "               #\"63101\", # Visibility\n",
        "               #\"63011\", # Solar Radiation\n",
        "\n",
        "]\n",
        "\n",
        "# Year range\n",
        "years = range(1999, 2024)\n",
        "\n",
        "# California state code\n",
        "state_code = \"06\"\n",
        "\n",
        "# San Joaquin Valley county codes\n",
        "county_codes = {\n",
        "    #\"San Joaquin\": \"077\",\n",
        "    #\"Stanislaus\": \"099\",\n",
        "    #\"Merced\": \"047\",\n",
        "    \"Fresno\": \"019\",\n",
        "    #\"Kings\": \"031\",\n",
        "    #\"Tulare\": \"107\",\n",
        "    #\"Kern\": \"029\"\n",
        "}\n",
        "\n",
        "# Empty list to store data\n",
        "all_data = []\n",
        "\n",
        "# Loop through pollutants, counties, and years\n",
        "for param in params_list:\n",
        "    for county_name, county_code in county_codes.items():\n",
        "        for year in years:\n",
        "            print(f\"Fetching {param} for {county_name} ({county_code}) in {year}...\")\n",
        "\n",
        "            params = {\n",
        "                \"email\": email,\n",
        "                \"key\": api_key,\n",
        "                \"param\": param,\n",
        "                \"bdate\": f\"{year}0101\",\n",
        "                \"edate\": f\"{year}1231\",\n",
        "                \"state\": state_code,\n",
        "                \"county\": county_code\n",
        "            }\n",
        "\n",
        "            response = requests.get(url, params=params)\n",
        "\n",
        "            if response.status_code == 200:\n",
        "                data = response.json()\n",
        "                if \"Data\" in data and data[\"Data\"]:\n",
        "                    all_data.extend(data[\"Data\"])\n",
        "                    print(f\"Success: {len(data['Data'])} records added.\")\n",
        "                else:\n",
        "                    print(f\"No data found for {param} in {county_name} ({year}).\")\n",
        "            else:\n",
        "                print(f\"Error: {response.status_code}, {response.text}\")\n",
        "\n",
        "            time.sleep(1)  # Avoid exceeding API rate limits\n",
        "\n",
        "# Convert to DataFrame\n",
        "df = pd.DataFrame(all_data)\n",
        "\n",
        "# Save to CSV for future analysis\n",
        "df.to_csv(\"SJV_Fresno_Humidity_1999_2024.csv\", index=False)\n",
        "\n",
        "print(f\"Final dataset contains {df.shape[0]} records.\")\n"
      ],
      "metadata": {
        "colab": {
          "base_uri": "https://localhost:8080/"
        },
        "id": "1LRbO01lvCab",
        "outputId": "3d9d1334-2737-4f84-e575-4b6f8bcc5818"
      },
      "execution_count": null,
      "outputs": [
        {
          "output_type": "stream",
          "name": "stdout",
          "text": [
            "Fetching 62201 for Fresno (019) in 1999...\n",
            "Success: 1249 records added.\n",
            "Fetching 62201 for Fresno (019) in 2000...\n",
            "Success: 1151 records added.\n",
            "Fetching 62201 for Fresno (019) in 2001...\n",
            "Success: 1319 records added.\n",
            "Fetching 62201 for Fresno (019) in 2002...\n",
            "Success: 1386 records added.\n",
            "Fetching 62201 for Fresno (019) in 2003...\n",
            "Success: 1635 records added.\n",
            "Fetching 62201 for Fresno (019) in 2004...\n",
            "Success: 1260 records added.\n",
            "Fetching 62201 for Fresno (019) in 2005...\n",
            "Success: 1090 records added.\n",
            "Fetching 62201 for Fresno (019) in 2006...\n",
            "Success: 1071 records added.\n",
            "Fetching 62201 for Fresno (019) in 2007...\n",
            "Success: 1095 records added.\n",
            "Fetching 62201 for Fresno (019) in 2008...\n",
            "Success: 1090 records added.\n",
            "Fetching 62201 for Fresno (019) in 2009...\n",
            "Success: 1032 records added.\n",
            "Fetching 62201 for Fresno (019) in 2010...\n",
            "Success: 1076 records added.\n",
            "Fetching 62201 for Fresno (019) in 2011...\n",
            "Success: 1091 records added.\n",
            "Fetching 62201 for Fresno (019) in 2012...\n",
            "Success: 1067 records added.\n",
            "Fetching 62201 for Fresno (019) in 2013...\n",
            "Success: 962 records added.\n",
            "Fetching 62201 for Fresno (019) in 2014...\n",
            "Success: 881 records added.\n",
            "Fetching 62201 for Fresno (019) in 2015...\n",
            "Success: 690 records added.\n",
            "Fetching 62201 for Fresno (019) in 2016...\n",
            "Success: 996 records added.\n",
            "Fetching 62201 for Fresno (019) in 2017...\n",
            "Success: 1088 records added.\n",
            "Fetching 62201 for Fresno (019) in 2018...\n",
            "Success: 1075 records added.\n",
            "Fetching 62201 for Fresno (019) in 2019...\n",
            "Success: 1093 records added.\n",
            "Fetching 62201 for Fresno (019) in 2020...\n",
            "Success: 1096 records added.\n",
            "Fetching 62201 for Fresno (019) in 2021...\n",
            "Success: 1091 records added.\n",
            "Fetching 62201 for Fresno (019) in 2022...\n",
            "Success: 1093 records added.\n",
            "Fetching 62201 for Fresno (019) in 2023...\n",
            "Success: 1095 records added.\n",
            "Final dataset contains 27772 records.\n"
          ]
        }
      ]
    },
    {
      "cell_type": "code",
      "source": [
        "all_Data"
      ],
      "metadata": {
        "id": "UU0GWC0bmMab",
        "outputId": "0cec0934-0088-482b-cb11-cc6ca813036f",
        "colab": {
          "base_uri": "https://localhost:8080/",
          "height": 147
        }
      },
      "execution_count": null,
      "outputs": [
        {
          "output_type": "error",
          "ename": "NameError",
          "evalue": "name 'all_Data' is not defined",
          "traceback": [
            "\u001b[0;31m---------------------------------------------------------------------------\u001b[0m",
            "\u001b[0;31mNameError\u001b[0m                                 Traceback (most recent call last)",
            "\u001b[0;32m<ipython-input-1-260e099a92b5>\u001b[0m in \u001b[0;36m<cell line: 0>\u001b[0;34m()\u001b[0m\n\u001b[0;32m----> 1\u001b[0;31m \u001b[0mall_Data\u001b[0m\u001b[0;34m\u001b[0m\u001b[0;34m\u001b[0m\u001b[0m\n\u001b[0m",
            "\u001b[0;31mNameError\u001b[0m: name 'all_Data' is not defined"
          ]
        }
      ]
    },
    {
      "cell_type": "code",
      "source": [],
      "metadata": {
        "id": "Dl4xhwR1yhWX"
      },
      "execution_count": null,
      "outputs": []
    }
  ]
}